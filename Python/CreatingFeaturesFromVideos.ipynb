{
 "cells": [
  {
   "cell_type": "code",
   "execution_count": 68,
   "metadata": {
    "collapsed": true
   },
   "outputs": [],
   "source": [
    "# this code is used for creating features having the coordinatal data cleaned as its input to be used to prediction"
   ]
  },
  {
   "cell_type": "code",
   "execution_count": null,
   "metadata": {},
   "outputs": [],
   "source": [
    "import numpy as np\n",
    "from scipy.fftpack import fft\n",
    "import csv\n",
    "import pandas\n",
    "import scipy\n",
    "import math\n",
    "import sys\n",
    "import time\n",
    "import copy\n",
    "import matplotlib\n",
    "import json\n",
    "import os\n",
    "from scipy import interpolate\n",
    "from scipy import signal\n",
    "%matplotlib inline\n",
    "import matplotlib\n",
    "import numpy as np\n",
    "import matplotlib.pyplot as plt\n",
    "from pylab import rcParams\n",
    "import pandas\n",
    "import os.path\n",
    "import json \n",
    "import scipy.stats as ss\n",
    "import numpy as np\n",
    "import pylab as plt\n"
   ]
  },
  {
   "cell_type": "code",
   "execution_count": 69,
   "metadata": {},
   "outputs": [
    {
     "name": "stderr",
     "output_type": "stream",
     "text": [
      "D:\\Users\\soes\\AppData\\Local\\conda\\conda\\envs\\tensorflow\\lib\\site-packages\\IPython\\core\\interactiveshell.py:2728: DtypeWarning: Columns (300) have mixed types. Specify dtype option on import or set low_memory=False.\n",
      "  interactivity=interactivity, compiler=compiler, result=result)\n"
     ]
    }
   ],
   "source": [
    "# corresponding codes for different body joints based on json files\n",
    "[RHIP, RANK, RSHO, RKNE, RWRI, RELB, REAR] = [8,10,2,9,4,3,16]\n",
    "[LHIP, LANK, LSHO, LKNE, LWRI, LELB, LEAR] = [11,13,5,12,7,6,17]\n",
    "NOSE = 0\n",
    "NECK = 1\n",
    "topoint = lambda x: range(2*x,2*x+2)\n",
    "\n",
    "alldata = pandas.read_csv(\"../alldata.csv\")\n",
    "videos = pandas.read_csv(\"../video_list.csv\")\n",
    "alldata = alldata[alldata[\"side\"] == \"R\"]\n",
    "video = videos[\"Video_File\"].apply(lambda x: x.__str__()[37:-4])\n",
    "exam = videos[\"Exam_ID\"]\n",
    "map_ev = dict(zip(exam,video))\n",
    "alldata[\"videoid\"] = alldata[\"examid\"].apply(lambda x: map_ev[int(x)] if int(x) in map_ev.keys() else None)\n",
    "cadence = alldata[\"cadence\"]\n",
    "alldata.to_csv('out.csv')\n",
    "alldata = pandas.read_csv(\"./out.csv\")"
   ]
  },
  {
   "cell_type": "code",
   "execution_count": 70,
   "metadata": {},
   "outputs": [],
   "source": [
    "# remove the elements that are nan and come consecutively at the end\n",
    "def removeEndingNans(dat):\n",
    "    a = np.asarray(dat)\n",
    "    while (1):\n",
    "        if np.isnan(a[-1]):\n",
    "            a = np.delete(a, a.size-1)\n",
    "        else:\n",
    "            break\n",
    "    return a;"
   ]
  },
  {
   "cell_type": "code",
   "execution_count": 71,
   "metadata": {
    "collapsed": true
   },
   "outputs": [],
   "source": [
    "# fill the nan elements by interpolation\n",
    "def fill_nan(A):\n",
    "    #interpolate to fill nan values\n",
    "    A = np.asarray(A);\n",
    "    inds = np.arange(A.shape[0])\n",
    "    cond = np.logical_and(np.isfinite(A),A!=0)\n",
    "    good = [i for i, x in enumerate(cond) if x]\n",
    "    f = interpolate.interp1d(inds[good], A[good],kind=\"linear\",fill_value=\"extrapolate\")\n",
    "    B = np.where(cond,A,f(inds))\n",
    "    #print (np.isnan(B))\n",
    "    return B"
   ]
  },
  {
   "cell_type": "code",
   "execution_count": 73,
   "metadata": {},
   "outputs": [],
   "source": [
    "# Fast Fourier Transform \n",
    "def fastFT( data ):\n",
    "    # Number of sample points\n",
    "    Fs = 24\n",
    "    T = 1/Fs\n",
    "    L = len(data)\n",
    "    t = np.arange(L)*T\n",
    "    x = data\n",
    "    x = fill_nan(data)\n",
    "    y = fft(x)\n",
    "    p2 = np.abs(y/L)\n",
    "    f = Fs*np.arange(L/2)/L\n",
    "    p1 = 2*p2[0:f.size]\n",
    "    f[10:] = np.apply_along_axis(lambda x: scipy.ndimage.filters.gaussian_filter1d(x,1),arr=f[10:],axis=0)\n",
    "    return f[10:], p1[10:]"
   ]
  },
  {
   "cell_type": "code",
   "execution_count": 1,
   "metadata": {},
   "outputs": [],
   "source": [
    "# numerical intergation\n",
    "def numInteg(x,y):\n",
    "    # test of numerical integration\n",
    "    yy = (y*y)*x\n",
    "    numIntegValue = np.trapz(yy,x)\n",
    "\n",
    "    return numIntegValue"
   ]
  },
  {
   "cell_type": "code",
   "execution_count": 75,
   "metadata": {},
   "outputs": [],
   "source": [
    "# doing preprocessing on the frames such as \n",
    "# -normalizing the coordinates\n",
    "# -centralizing the body coordinates\n",
    "\n",
    "def preprocessTheView(view2):\n",
    "    ref_frame = 150\n",
    "\n",
    "    res = view2\n",
    "    num_parts = 18\n",
    "    processed_cols = [True,True,False] * (num_parts)\n",
    "\n",
    "    res = res[:,processed_cols]\n",
    "    M = np.nanmean(res,axis=0)\n",
    "    M = M[topoint(RHIP)].tolist() * num_parts\n",
    "    centered = res - M\n",
    "    # distance between the right hip and right ankle\n",
    "    for i in (4,5,16,17,20,21):\n",
    "        res[:,i] = fill_nan(res[:,i])\n",
    "        res[:,i] = np.apply_along_axis(lambda x: scipy.ndimage.filters.gaussian_filter1d(x,1),arr=res[:,i],axis=0)\n",
    "    \n",
    "    scale_scalar_ank = np.linalg.norm(res[ref_frame,topoint(RHIP)] - res[ref_frame,topoint(RANK)])\n",
    "    scale_scalar_sho = np.linalg.norm(res[ref_frame,topoint(RHIP)] - res[ref_frame,topoint(RSHO)])\n",
    "    scale = scale_scalar_sho+scale_scalar_ank)/2\n",
    "    \n",
    "    centered = centered / scale\n",
    "    return centered"
   ]
  },
  {
   "cell_type": "code",
   "execution_count": 76,
   "metadata": {},
   "outputs": [],
   "source": [
    "# calculate the average of steplengths\n",
    "def averageStepLength(dxRANK,dxLANK):\n",
    "    aveStepLen = np.mean(abs(dxRANK-dxLANK))\n",
    "    return aveStepLen"
   ]
  },
  {
   "cell_type": "code",
   "execution_count": 77,
   "metadata": {},
   "outputs": [],
   "source": [
    "# calculate the average of speeds measured in 10 time windows\n",
    "def averageSpeed(dxNECK):\n",
    "    sumOfSpeeds = 0\n",
    "    for x in range(10, 110, 10):\n",
    "        sumOfSpeeds = sumOfSpeeds + abs(dxNECK[24+x]-dxNECK[x])\n",
    "    aveSpeed = sumOfSpeeds / 10\n",
    "    return aveSpeed"
   ]
  },
  {
   "cell_type": "code",
   "execution_count": 78,
   "metadata": {},
   "outputs": [],
   "source": [
    "# creating features by preprocessing the frames, doing fft, doing numerical integation\n",
    "def createFeatures():\n",
    "    #removes if csv already exists then writes first row as the name of the features\n",
    "    os.remove('features.csv')\n",
    "    features_id = np.array(['r1','r2','r3','r4','r5','r6','r7','r8','r9','r10','r11','r12','l1','l2','l3','l4','l5','l6','l7','l8','l9','l10','l11','l12',\n",
    "                           'aveStepLength','aveSpeed','actualCad','actualStepLen','actualSpeed','folder'])\n",
    "    with open(r'features.csv', 'a',newline='') as f:\n",
    "        writer = csv.writer(f)\n",
    "        writer.writerow(features_id)\n",
    "    dir='./data'\n",
    "    list = []\n",
    "    freq = [0,1,2,3,4,5,6,7,8,9,10,11,12]\n",
    "    feat = np.zeros(26)\n",
    "    output = np.zeros(30)\n",
    "    counter = 0\n",
    "    for folder in os.listdir(dir):\n",
    "        folder_path= os.path.join(dir,folder)\n",
    "        if os.path.isdir(folder_path) and len([name for name in os.listdir(folder_path)if name.endswith(\".npy\")])!=0:\n",
    "            counter = counter + 1\n",
    "            list = [folder] + list\n",
    "            view2_path= os.path.join(dir,folder,'view2.npy')\n",
    "            view2 = np.load(view2_path)\n",
    "\n",
    "            centered = preprocessTheView(view2)\n",
    "\n",
    "            dxRANK = centered[:,2*RANK]\n",
    "            dxLANK = centered[:,2*LANK]\n",
    "            dxNECK = centered[:,2*NECK]\n",
    "\n",
    "            dxRANK = removeEndingNans(dxRANK)\n",
    "            dxLANK = removeEndingNans(dxLANK)\n",
    "            dxNECK = removeEndingNans(dxNECK)\n",
    "\n",
    "            dxRANK = fill_nan(dxRANK)\n",
    "            dxLANK = fill_nan(dxLANK)\n",
    "            dxNECK = fill_nan(dxNECK)\n",
    "\n",
    "            aveSpeed = averageSpeed(dxNECK)\n",
    "\n",
    "            fRANK, ampRANK = fastFT( dxRANK )\n",
    "            fLANK, ampLANK = fastFT( dxLANK ) \n",
    "            fRANK = fill_nan(fRANK)\n",
    "            fLANK = fill_nan(fLANK)\n",
    "            ampRANK = fill_nan(ampRANK)\n",
    "            ampLANK = fill_nan(ampLANK)\n",
    "\n",
    "            feat[0] = numInteg(fRANK[fRANK<=freq[1]],ampRANK[fRANK<=freq[1]])\n",
    "            for i in range(1, 12):\n",
    "                feat[i] = numInteg(fRANK[np.where(np.logical_and(fRANK>=freq[i], fRANK<=freq[i+1]))],ampRANK[np.where(np.logical_and(fRANK>=freq[i], fRANK<=freq[i+1]))])\n",
    "\n",
    "            feat[12] = numInteg(fLANK[fLANK<=freq[1]],ampLANK[fLANK<=freq[1]])\n",
    "            for i in range(13, 24):\n",
    "                feat[i] = numInteg(fLANK[np.where(np.logical_and(fLANK>=freq[i-12], fLANK<=freq[i+1-12]))],ampLANK[np.where(np.logical_and(fLANK>=freq[i-12], fLANK<=freq[i+1-12]))])\n",
    "\n",
    "            feat[24] = averageStepLength(dxRANK,dxLANK)\n",
    "            feat[25] = aveSpeed\n",
    "            output[0:26] = feat[:]\n",
    "\n",
    "            fff = int(folder)\n",
    "            fff = fff\n",
    "            cad = (alldata.loc[alldata[\"videoid\"] == fff][\"cadence\"]) \n",
    "            stepLen = (alldata.loc[alldata[\"videoid\"] == fff][\"steplen\"]) \n",
    "            speed = (alldata.loc[alldata[\"videoid\"] == fff][\"speed\"]) \n",
    "            if  cad.empty == False:\n",
    "                output[26] = cad.iloc[0] # cadence of that row\n",
    "                output[27] = stepLen.iloc[0] # stepLength of that row\n",
    "                output[28] = speed.iloc[0] # speed of that row\n",
    "                output[29] = folder\n",
    "                with open(r'features.csv', 'a',newline='') as f:\n",
    "                    writer = csv.writer(f)\n",
    "                    writer.writerow(output) \n",
    "            if folder == 12803901: \n",
    "                print (folder)\n",
    "                plt.figure()\n",
    "                plt.plot(fRANK, ampRANK)\n",
    "                plt.show()\n"
   ]
  }
 ],
 "metadata": {
  "kernelspec": {
   "display_name": "Python 3",
   "language": "python",
   "name": "python3"
  },
  "language_info": {
   "codemirror_mode": {
    "name": "ipython",
    "version": 3
   },
   "file_extension": ".py",
   "mimetype": "text/x-python",
   "name": "python",
   "nbconvert_exporter": "python",
   "pygments_lexer": "ipython3",
   "version": "3.6.2"
  }
 },
 "nbformat": 4,
 "nbformat_minor": 2
}
