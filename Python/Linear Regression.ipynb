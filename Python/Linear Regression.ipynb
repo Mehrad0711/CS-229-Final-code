{
 "cells": [
  {
   "cell_type": "code",
   "execution_count": null,
   "metadata": {},
   "outputs": [],
   "source": [
    "from sklearn import linear_model\n",
    "import numpy as np\n",
    "import matplotlib.pyplot as plt\n",
    "import pandas as pd\n",
    "from IPython.core.debugger import Tracer\n",
    "from sklearn.metrics import r2_score\n",
    "from sklearn.decomposition import PCA\n",
    "from sklearn.metrics import mean_squared_error, r2_score\n",
    "from sklearn.cross_validation import train_test_split"
   ]
  },
  {
   "cell_type": "code",
   "execution_count": null,
   "metadata": {},
   "outputs": [],
   "source": [
    "# load dataset\n",
    "dataframe = pd.read_csv(\"featuresToUseAll.csv\", delimiter=',')\n",
    "n_features=24\n",
    "n_target=26 # 26:cadence, 27:step length, 28:speed\n",
    "dataset = dataframe.values\n",
    "# split into input (X) and output (Y) variables\n",
    "X = dataset[:,0:n_features]\n",
    "Y = dataset[:,n_target]"
   ]
  },
  {
   "cell_type": "code",
   "execution_count": null,
   "metadata": {},
   "outputs": [],
   "source": [
    "# Data normalization\n",
    "mean = np.mean(X)\n",
    "std = np.std(X)\n",
    "X = (X - mean) / std"
   ]
  },
  {
   "cell_type": "code",
   "execution_count": null,
   "metadata": {},
   "outputs": [],
   "source": [
    "# PCA \n",
    "pca=PCA(n_components=6)\n",
    "pca.fit(X)\n",
    "X_pca=pca.transform(X)"
   ]
  },
  {
   "cell_type": "code",
   "execution_count": null,
   "metadata": {},
   "outputs": [],
   "source": [
    "# Split data into train and test\n",
    "Xtrain, Xtest, Ytrain, Ytest = train_test_split(X, Y,random_state=42)"
   ]
  },
  {
   "cell_type": "code",
   "execution_count": null,
   "metadata": {},
   "outputs": [],
   "source": [
    "#Train the model\n",
    "alphas=[100,10,1,0.1,0.01]\n",
    "testR2=np.zeros([len(alphas),2])\n",
    "trainR2=np.zeros([len(alphas),2])\n",
    "\n",
    "testMSE=np.zeros([len(alphas),2])\n",
    "trainMSE=np.zeros([len(alphas),2])\n",
    "for ind, alph in enumerate(alphas):\n",
    "    model = linear_model.Ridge(alpha = .5)\n",
    "    model.fit(Xtrain,Ytrain)\n",
    "    Ypred=model.predict(Xtest)\n",
    "    Ypred_train=model.predict(Xtrain)\n",
    "    # get R2 for the train and test data\n",
    "    testR2[ind,:]=alph,r2_score(Ytest,Ypred)\n",
    "    trainR2[ind,:]=alph,r2_score(Ytrain,Ypred_train)\n",
    "    \n",
    "    testMSE[ind,:]=alph,mean_squared_error(Ytest,Ypred)\n",
    "    trainMSE[ind,:]=alph,mean_squared_error(Ytrain,Ypred_train)"
   ]
  },
  {
   "cell_type": "code",
   "execution_count": null,
   "metadata": {},
   "outputs": [],
   "source": [
    "# # Plot Ytest Ypred\n",
    "plt.figure()\n",
    "plt.scatter(Ytest, model.predict(Xtest), alpha=0.4)\n",
    "plt.ylabel('Ytest prediction')\n",
    "plt.xlabel('Ytest')\n",
    "plt.title('Property Prediction')\n",
    "plt.axis([0,1.5,0,1.5])\n",
    "plt.gca().set_aspect('equal', adjustable='box')\n",
    "plt.plot(np.linspace(0,1.5,100),np.linspace(0,1.5,100),'r')\n",
    "plt.show()"
   ]
  },
  {
   "cell_type": "code",
   "execution_count": null,
   "metadata": {},
   "outputs": [],
   "source": [
    "# Plot Ytrain Ytrain_pred\n",
    "plt.figure()\n",
    "plt.scatter(Ytrain, model.predict(Xtrain),alpha=0.4)\n",
    "plt.ylabel('Ytrain prediction')\n",
    "plt.xlabel('Ytrain')\n",
    "plt.title('Property Prediction')\n",
    "plt.xlim([0,1.5])\n",
    "plt.ylim([0,1.5])\n",
    "plt.gca().set_aspect('equal', adjustable='box')\n",
    "plt.plot(np.linspace(0,1.5,100),np.linspace(0,1.5,100),'r')\n",
    "plt.show()"
   ]
  },
  {
   "cell_type": "code",
   "execution_count": null,
   "metadata": {},
   "outputs": [],
   "source": [
    "import matplotlib\n",
    "fig1=plt.figure()\n",
    "matplotlib.rcParams.update({'font.size': 16})\n",
    "fig1=plt.figure(num=None, figsize=(8, 6), dpi=100, facecolor='w', edgecolor='k')\n",
    "\n",
    "plt.plot(trainR2[:,0], trainR2[:,1],alpha=0.4, label='Training')\n",
    "plt.plot(testR2[:,0], testR2[:,1],alpha=0.4, label='Testing')\n",
    "\n",
    "plt.ylabel(r'$R^2$')\n",
    "plt.xlabel(r'$\\alpha$ Regularization Parameter')\n",
    "plt.title(r'$R^2$ - Property Prediction')\n",
    "plt.legend()\n",
    "fig1.savefig('Property_r2.png')\n",
    "plt.show()"
   ]
  },
  {
   "cell_type": "code",
   "execution_count": null,
   "metadata": {},
   "outputs": [],
   "source": [
    "import matplotlib\n",
    "fig2=plt.figure()\n",
    "matplotlib.rcParams.update({'font.size': 16})\n",
    "fig2=plt.figure(num=None, figsize=(8, 6), dpi=100, facecolor='w', edgecolor='k')\n",
    "\n",
    "plt.plot(trainMSE[:,0], trainMSE[:,1],alpha=0.4, label='Training')\n",
    "plt.plot(testMSE[:,0], testMSE[:,1],alpha=0.4, label='Testing')\n",
    "\n",
    "plt.ylabel(r'$R^2$')\n",
    "plt.xlabel(r'$\\alpha$ Regularization Parameter')\n",
    "plt.title(r'MSE - Property Prediction')\n",
    "plt.legend()\n",
    "\n",
    "plt.show()\n",
    "fig2.savefig('Property_mse.png')"
   ]
  },
  {
   "cell_type": "code",
   "execution_count": null,
   "metadata": {},
   "outputs": [],
   "source": [
    "# data storage\n",
    "data=np.vstack((trainR2[:,0],trainR2[:,1],testR2[:,1],trainMSE[:,1], testMSE[:,1]))\n",
    "np.save('Reg_Property.npy',data)"
   ]
  },
  {
   "cell_type": "code",
   "execution_count": null,
   "metadata": {},
   "outputs": [],
   "source": []
  },
  {
   "cell_type": "code",
   "execution_count": null,
   "metadata": {},
   "outputs": [],
   "source": []
  },
  {
   "cell_type": "code",
   "execution_count": null,
   "metadata": {},
   "outputs": [],
   "source": []
  }
 ],
 "metadata": {
  "kernelspec": {
   "display_name": "Python [default]",
   "language": "python",
   "name": "python3"
  },
  "language_info": {
   "codemirror_mode": {
    "name": "ipython",
    "version": 3
   },
   "file_extension": ".py",
   "mimetype": "text/x-python",
   "name": "python",
   "nbconvert_exporter": "python",
   "pygments_lexer": "ipython3",
   "version": "3.6.0"
  }
 },
 "nbformat": 4,
 "nbformat_minor": 2
}
