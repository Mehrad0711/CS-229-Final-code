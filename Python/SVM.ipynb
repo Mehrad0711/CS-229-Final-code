{
 "cells": [
  {
   "cell_type": "markdown",
   "metadata": {},
   "source": [
    "This is SVM for linear regression"
   ]
  },
  {
   "cell_type": "code",
   "execution_count": null,
   "metadata": {},
   "outputs": [],
   "source": [
    "from sklearn.svm import SVR\n",
    "from sklearn.svm import SVC\n",
    "\n",
    "import numpy as np\n",
    "import matplotlib.pyplot as plt\n",
    "import pandas as pd\n",
    "from IPython.core.debugger import Tracer\n",
    "from sklearn.metrics import r2_score, mean_squared_error\n",
    "from sklearn.decomposition import PCA\n",
    "from sklearn.cross_validation import train_test_split\n",
    "from sklearn.grid_search import GridSearchCV\n"
   ]
  },
  {
   "cell_type": "code",
   "execution_count": null,
   "metadata": {},
   "outputs": [],
   "source": [
    "# load dataset\n",
    "dataframe = pd.read_csv(\"featuresToUseAll.csv\", delimiter=',')\n",
    "n_features=24\n",
    "n_target=26 # 26:cadence, 27:step length, 28:speed\n",
    "dataset = dataframe.values\n",
    "# split into input (X) and output (Y) variables\n",
    "X = dataset[:,0:n_features]\n",
    "Y = dataset[:,n_target]"
   ]
  },
  {
   "cell_type": "code",
   "execution_count": null,
   "metadata": {},
   "outputs": [],
   "source": [
    "# Data normalization\n",
    "mean = np.mean(X)\n",
    "std = np.std(X)\n",
    "X = (X - mean) / std"
   ]
  },
  {
   "cell_type": "code",
   "execution_count": null,
   "metadata": {},
   "outputs": [],
   "source": [
    "# Doing PCA\n",
    "pca=PCA(n_components=6)\n",
    "pca.fit(X)\n",
    "X_pca=pca.transform(X)"
   ]
  },
  {
   "cell_type": "code",
   "execution_count": null,
   "metadata": {},
   "outputs": [],
   "source": [
    "# Split data between train and test\n",
    "Xtrain, Xtest, ytrain, ytest = train_test_split(X_pca, Y,random_state=42)"
   ]
  },
  {
   "cell_type": "code",
   "execution_count": null,
   "metadata": {},
   "outputs": [],
   "source": [
    "#Model creation\n",
    "model=SVR(kernel='rbf')"
   ]
  },
  {
   "cell_type": "code",
   "execution_count": null,
   "metadata": {},
   "outputs": [],
   "source": [
    "# Optimizationfor C and gamma\n",
    "param_grid = {'C': [0.001,0.1,1, 5, 10],\n",
    "              'gamma': [0.0001, 0.0005, 0.001, 0.005, 0.01,1]}\n",
    "paramGrid = GridSearchCV(model, param_grid,'r2')\n",
    "\n",
    "# train  model\n",
    "paramGrid.fit(Xtrain, ytrain)\n",
    "print('Optimized Parameters:')\n",
    "print(paramGrid.best_params_)\n",
    "# prediction\n",
    "Ypred=paramGrid.predict(Xtest)\n",
    "Ypred_train=paramGrid.predict(Xtrain)\n",
    "print('Test R2 score %.2f'%r2_score(ytest,Ypred))\n",
    "print('Train R2 score %.2f'%r2_score(ytrain,Ypred_train))\n",
    "\n",
    "print('Test MSE score %.2f'%mean_squared_error(ytest,Ypred))\n",
    "print('Train MSE score %.2f'%mean_squared_error(ytrain,Ypred_train))"
   ]
  },
  {
   "cell_type": "code",
   "execution_count": null,
   "metadata": {},
   "outputs": [],
   "source": []
  }
 ],
 "metadata": {
  "kernelspec": {
   "display_name": "Python [conda env:tensorflow]",
   "language": "python",
   "name": "conda-env-tensorflow-py"
  },
  "language_info": {
   "codemirror_mode": {
    "name": "ipython",
    "version": 3
   },
   "file_extension": ".py",
   "mimetype": "text/x-python",
   "name": "python",
   "nbconvert_exporter": "python",
   "pygments_lexer": "ipython3",
   "version": "3.6.0"
  }
 },
 "nbformat": 4,
 "nbformat_minor": 2
}
